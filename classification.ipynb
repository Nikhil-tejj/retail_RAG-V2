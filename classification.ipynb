{
 "cells": [
  {
   "cell_type": "code",
   "execution_count": 1,
   "id": "17c958d9",
   "metadata": {},
   "outputs": [
    {
     "name": "stdout",
     "output_type": "stream",
     "text": [
      "Note: you may need to restart the kernel to use updated packages.\n"
     ]
    }
   ],
   "source": [
    "%pip install -q pandas scikit-learn joblib nltk sentence-transformers matplotlib"
   ]
  },
  {
   "cell_type": "code",
   "execution_count": 2,
   "id": "9cfb6337",
   "metadata": {},
   "outputs": [
    {
     "name": "stderr",
     "output_type": "stream",
     "text": [
      "c:\\Users\\Nikhil\\Downloads\\New folder\\myvenv\\Lib\\site-packages\\tqdm\\auto.py:21: TqdmWarning: IProgress not found. Please update jupyter and ipywidgets. See https://ipywidgets.readthedocs.io/en/stable/user_install.html\n",
      "  from .autonotebook import tqdm as notebook_tqdm\n"
     ]
    },
    {
     "name": "stdout",
     "output_type": "stream",
     "text": [
      "All libraries imported successfully!\n"
     ]
    }
   ],
   "source": [
    "import os\n",
    "import re\n",
    "import pandas as pd\n",
    "import numpy as np\n",
    "import matplotlib.pyplot as plt\n",
    "from sklearn.model_selection import train_test_split\n",
    "from sklearn.linear_model import LogisticRegression\n",
    "from sklearn.metrics import classification_report, confusion_matrix, accuracy_score\n",
    "from sentence_transformers import SentenceTransformer\n",
    "import joblib\n",
    "\n",
    "print(\"All libraries imported successfully!\")"
   ]
  },
  {
   "cell_type": "code",
   "execution_count": 3,
   "id": "1586557e",
   "metadata": {},
   "outputs": [
    {
     "name": "stdout",
     "output_type": "stream",
     "text": [
      "Loading sentence transformer model...\n",
      "Loaded SentenceTransformer model with 384 dimensions\n"
     ]
    }
   ],
   "source": [
    "DATA_PATH = 'products_final.csv'\n",
    "MODEL_DIR = 'models'\n",
    "os.makedirs(MODEL_DIR, exist_ok=True)\n",
    "\n",
    "LR_MODEL_PATH = os.path.join(MODEL_DIR, 'lr_embeddings.pkl')\n",
    "\n",
    "print(\"Loading sentence transformer model...\")\n",
    "embed_model = SentenceTransformer('all-MiniLM-L6-v2')\n",
    "print(f\"Loaded SentenceTransformer model with {embed_model.get_sentence_embedding_dimension()} dimensions\")"
   ]
  },
  {
   "cell_type": "code",
   "execution_count": 4,
   "id": "c93cfb0d",
   "metadata": {},
   "outputs": [
    {
     "name": "stdout",
     "output_type": "stream",
     "text": [
      "Dataset shape: (9151, 2)\n",
      "Columns: ['query', 'category']\n",
      "\n",
      "First 5 rows:\n",
      "                                               query   category\n",
      "0  LAFCO New York Classic Reed Diffuser, Champagn...  Fragrance\n",
      "1  Primal Elements Wax Melt, Pineapple Rum Splash...  Fragrance\n",
      "2  Wind Song Dusting Powder for Women by Prince M...  Fragrance\n",
      "3  Elizabeth Taylor Body Powder for Women, Fragra...  Fragrance\n",
      "4  Bee Naturals Forest Mist - Personal and Enviro...  Fragrance\n",
      "\n",
      "Dataset info:\n",
      "<class 'pandas.core.frame.DataFrame'>\n",
      "RangeIndex: 9151 entries, 0 to 9150\n",
      "Data columns (total 2 columns):\n",
      " #   Column    Non-Null Count  Dtype \n",
      "---  ------    --------------  ----- \n",
      " 0   query     9151 non-null   object\n",
      " 1   category  9151 non-null   object\n",
      "dtypes: object(2)\n",
      "memory usage: 143.1+ KB\n",
      "None\n",
      "\n",
      "Missing values:\n",
      "query       0\n",
      "category    0\n",
      "dtype: int64\n"
     ]
    }
   ],
   "source": [
    "df = pd.read_csv(DATA_PATH)\n",
    "print(f\"Dataset shape: {df.shape}\")\n",
    "print(f\"Columns: {list(df.columns)}\")\n",
    "\n",
    "print(\"\\nFirst 5 rows:\")\n",
    "print(df.head())\n",
    "\n",
    "print(\"\\nDataset info:\")\n",
    "print(df.info())\n",
    "\n",
    "print(\"\\nMissing values:\")\n",
    "print(df.isnull().sum())"
   ]
  },
  {
   "cell_type": "code",
   "execution_count": 5,
   "id": "ffb43263",
   "metadata": {},
   "outputs": [
    {
     "name": "stdout",
     "output_type": "stream",
     "text": [
      "Original category counts:\n",
      "category\n",
      "Other                      1457\n",
      "Skin Care                  1446\n",
      "Bath & Shower              1446\n",
      "Fragrance                  1426\n",
      "Grocery & Gourmet Foods    1418\n",
      "Hair Care                  1376\n",
      "Detergents & Dishwash       582\n",
      "Name: count, dtype: int64\n",
      "\n",
      "Removing 'Detergents & Dishwash' category...\n",
      "Removing 582 samples from 'Detergents & Dishwash'\n",
      "\n",
      "New category counts after merging:\n",
      "category\n",
      "Other                      1457\n",
      "Personal Care              1446\n",
      "Fragrance                  1426\n",
      "Grocery & Gourmet Foods    1418\n",
      "Hair Care                  1376\n",
      "Name: count, dtype: int64\n"
     ]
    }
   ],
   "source": [
    "df = df.dropna(subset=['query', 'category'])\n",
    "df['category'] = df['category'].astype(str).str.strip()\n",
    "\n",
    "print(\"Original category counts:\")\n",
    "print(df['category'].value_counts())\n",
    "\n",
    "print(f\"\\nRemoving 'Detergents & Dishwash' category...\")\n",
    "detergent_count = len(df[df['category'] == 'Detergents & Dishwash'])\n",
    "print(f\"Removing {detergent_count} samples from 'Detergents & Dishwash'\")\n",
    "\n",
    "df = df[df['category'] != 'Detergents & Dishwash']\n",
    "\n",
    "bath_indices = df[df['category'] == 'Bath & Shower'].index.tolist()\n",
    "bath_half_indices = bath_indices[:len(bath_indices)//2]\n",
    "\n",
    "skin_indices = df[df['category'] == 'Skin Care'].index.tolist()\n",
    "skin_half_indices = skin_indices[:len(skin_indices)//2]\n",
    "\n",
    "indices_to_update = bath_half_indices + skin_half_indices\n",
    "df.loc[indices_to_update, 'category'] = 'Personal Care'\n",
    "\n",
    "df = df[~((df['category'] == 'Bath & Shower') | (df['category'] == 'Skin Care'))]\n",
    "\n",
    "print(\"\\nNew category counts after merging:\")\n",
    "print(df['category'].value_counts())"
   ]
  },
  {
   "cell_type": "code",
   "execution_count": 6,
   "id": "4ec966f0",
   "metadata": {},
   "outputs": [
    {
     "name": "stdout",
     "output_type": "stream",
     "text": [
      "Total number of products: 7123\n",
      "\n",
      "Category Distribution:\n",
      "--------------------------------------------------\n",
      "Other: 1457 products (20.45%)\n",
      "Personal Care: 1446 products (20.30%)\n",
      "Fragrance: 1426 products (20.02%)\n",
      "Grocery & Gourmet Foods: 1418 products (19.91%)\n",
      "Hair Care: 1376 products (19.32%)\n",
      "\n",
      "Summary Statistics:\n",
      "Number of unique categories: 5\n",
      "Most common category: Other (1457 products)\n",
      "Least common category: Hair Care (1376 products)\n",
      "Imbalance ratio: 1.06\n"
     ]
    },
    {
     "data": {
      "image/png": "[encoded data removed]",
      "text/plain": [
       "<Figure size 1200x800 with 1 Axes>"
      ]
     },
     "metadata": {},
     "output_type": "display_data"
    }
   ],
   "source": [
    "category_counts = df['category'].value_counts()\n",
    "total_products = len(df)\n",
    "\n",
    "print(f\"Total number of products: {total_products}\")\n",
    "print(\"\\nCategory Distribution:\")\n",
    "print(\"-\" * 50)\n",
    "\n",
    "for category, count in category_counts.items():\n",
    "    percentage = (count / total_products) * 100\n",
    "    print(f\"{category}: {count} products ({percentage:.2f}%)\")\n",
    "\n",
    "print(\"\\nSummary Statistics:\")\n",
    "print(f\"Number of unique categories: {len(category_counts)}\")\n",
    "print(f\"Most common category: {category_counts.index[0]} ({category_counts.iloc[0]} products)\")\n",
    "print(f\"Least common category: {category_counts.index[-1]} ({category_counts.iloc[-1]} products)\")\n",
    "print(f\"Imbalance ratio: {category_counts.iloc[0] / category_counts.iloc[-1]:.2f}\")\n",
    "\n",
    "plt.figure(figsize=(12, 8))\n",
    "category_counts.plot(kind='bar', color='skyblue', edgecolor='black')\n",
    "plt.title('Product Category Distribution', fontsize=16, fontweight='bold')\n",
    "plt.xlabel('Category', fontsize=12)\n",
    "plt.ylabel('Count', fontsize=12)\n",
    "plt.xticks(rotation=45, ha='right')\n",
    "plt.grid(axis='y', alpha=0.3)\n",
    "plt.tight_layout()\n",
    "plt.show()"
   ]
  },
  {
   "cell_type": "code",
   "execution_count": 7,
   "id": "5297dfb1",
   "metadata": {},
   "outputs": [
    {
     "name": "stdout",
     "output_type": "stream",
     "text": [
      "Testing text preprocessing:\n",
      "Original: 'wireless earphones with noise cancellation'\n",
      "Processed: 'wireless earphones with noise cancellation'\n",
      "\n",
      "Original: 'organic shampoo for dry hair'\n",
      "Processed: 'organic shampoo for dry hair'\n",
      "\n",
      "Original: 'kitchen cleaning detergent'\n",
      "Processed: 'kitchen cleaning detergent'\n",
      "\n"
     ]
    }
   ],
   "source": [
    "def clean_text(text):\n",
    "    \"\"\"Basic text cleaning for sentence transformers\"\"\"\n",
    "    text = str(text).lower()\n",
    "    text = re.sub(r'https?://\\S+|www\\.\\S+', '', text)  \n",
    "    text = re.sub(r'<.*?>', '', text)  \n",
    "    text = re.sub(r'[^\\w\\s-]', ' ', text)  \n",
    "    text = re.sub(r'\\s+', ' ', text).strip()  \n",
    "    return text\n",
    "\n",
    "def preprocess_text_for_embeddings(text):\n",
    "    \"\"\"Lightweight preprocessing for sentence transformers\"\"\"\n",
    "    return clean_text(text)\n",
    "\n",
    "test_queries = [\n",
    "    \"wireless earphones with noise cancellation\",\n",
    "    \"organic shampoo for dry hair\",\n",
    "    \"kitchen cleaning detergent\"\n",
    "]\n",
    "\n",
    "print(\"Testing text preprocessing:\")\n",
    "for query in test_queries:\n",
    "    processed = preprocess_text_for_embeddings(query)\n",
    "    print(f\"Original: '{query}'\")\n",
    "    print(f\"Processed: '{processed}'\\n\")"
   ]
  },
  {
   "cell_type": "code",
   "execution_count": 8,
   "id": "35c600bd",
   "metadata": {},
   "outputs": [
    {
     "name": "stdout",
     "output_type": "stream",
     "text": [
      "Preprocessing queries for embeddings...\n",
      "\n",
      "Sample preprocessed data:\n",
      "Original: 'LAFCO New York Classic Reed Diffuser, Champagne - 6 oz - Up to 3 Months Fragrance Life - Reusable, Hand Blown Glass Vessel - Natural Wood Reeds - Made in The USA'\n",
      "Processed: 'lafco new york classic reed diffuser champagne - 6 oz - up to 3 months fragrance life - reusable hand blown glass vessel - natural wood reeds - made in the usa'\n",
      "Category: Fragrance\n",
      "\n",
      "Original: 'Primal Elements Wax Melt, Pineapple Rum Splash, 2.5 Ounce'\n",
      "Processed: 'primal elements wax melt pineapple rum splash 2 5 ounce'\n",
      "Category: Fragrance\n",
      "\n",
      "Original: 'Wind Song Dusting Powder for Women by Prince Matchabelli, 4 Ounce'\n",
      "Processed: 'wind song dusting powder for women by prince matchabelli 4 ounce'\n",
      "Category: Fragrance\n",
      "\n",
      "Generating embeddings for all queries...\n",
      "This may take a few minutes depending on dataset size...\n"
     ]
    },
    {
     "name": "stderr",
     "output_type": "stream",
     "text": [
      "Batches: 100%|██████████| 223/223 [00:12<00:00, 17.30it/s]"
     ]
    },
    {
     "name": "stdout",
     "output_type": "stream",
     "text": [
      "Generated embeddings shape: (7123, 384)\n",
      "Embedding dimensions: 384\n"
     ]
    },
    {
     "name": "stderr",
     "output_type": "stream",
     "text": [
      "\n"
     ]
    }
   ],
   "source": [
    "print(\"Preprocessing queries for embeddings...\")\n",
    "df['processed_query'] = df['query'].astype(str).apply(preprocess_text_for_embeddings)\n",
    "\n",
    "print(\"\\nSample preprocessed data:\")\n",
    "for i, row in df[['query', 'processed_query', 'category']].head(3).iterrows():\n",
    "    print(f\"Original: '{row['query']}'\")\n",
    "    print(f\"Processed: '{row['processed_query']}'\")\n",
    "    print(f\"Category: {row['category']}\\n\")\n",
    "\n",
    "print(\"Generating embeddings for all queries...\")\n",
    "print(\"This may take a few minutes depending on dataset size...\")\n",
    "\n",
    "embeddings = embed_model.encode(\n",
    "    df['processed_query'].tolist(), \n",
    "    show_progress_bar=True,\n",
    "    batch_size=32,\n",
    "    convert_to_numpy=True\n",
    ")\n",
    "\n",
    "print(f\"Generated embeddings shape: {embeddings.shape}\")\n",
    "print(f\"Embedding dimensions: {embeddings.shape[1]}\")"
   ]
  },
  {
   "cell_type": "code",
   "execution_count": 9,
   "id": "7a896b74",
   "metadata": {},
   "outputs": [
    {
     "name": "stdout",
     "output_type": "stream",
     "text": [
      "Training set shape: (5698, 384)\n",
      "Test set shape: (1425, 384)\n",
      "Training samples: 5698\n",
      "Test samples: 1425\n",
      "\n",
      "Class distribution in training set:\n",
      "category\n",
      "Other                      1165\n",
      "Personal Care              1157\n",
      "Fragrance                  1141\n",
      "Grocery & Gourmet Foods    1134\n",
      "Hair Care                  1101\n",
      "Name: count, dtype: int64\n"
     ]
    }
   ],
   "source": [
    "X_train, X_test, y_train, y_test = train_test_split(\n",
    "    embeddings, \n",
    "    df['category'], \n",
    "    test_size=0.2, \n",
    "    random_state=42, \n",
    "    stratify=df['category']\n",
    ")\n",
    "\n",
    "print(f\"Training set shape: {X_train.shape}\")\n",
    "print(f\"Test set shape: {X_test.shape}\")\n",
    "print(f\"Training samples: {len(X_train)}\")\n",
    "print(f\"Test samples: {len(X_test)}\")\n",
    "\n",
    "print(\"\\nClass distribution in training set:\")\n",
    "print(pd.Series(y_train).value_counts())"
   ]
  },
  {
   "cell_type": "code",
   "execution_count": 10,
   "id": "056ec8fc",
   "metadata": {},
   "outputs": [
    {
     "name": "stderr",
     "output_type": "stream",
     "text": [
      "c:\\Users\\Nikhil\\Downloads\\New folder\\myvenv\\Lib\\site-packages\\sklearn\\linear_model\\_logistic.py:1281: FutureWarning: 'multi_class' was deprecated in version 1.5 and will be removed in 1.7. Use OneVsRestClassifier(LogisticRegression(..)) instead. Leave it to its default value to avoid this warning.\n",
      "  warnings.warn(\n"
     ]
    },
    {
     "name": "stdout",
     "output_type": "stream",
     "text": [
      "Training Logistic Regression with sentence transformer embeddings...\n",
      "Model training completed!\n",
      "Number of classes: 5\n",
      "Classes: ['Fragrance', 'Grocery & Gourmet Foods', 'Hair Care', 'Other', 'Personal Care']\n"
     ]
    }
   ],
   "source": [
    "print(\"Training Logistic Regression with sentence transformer embeddings...\")\n",
    "\n",
    "lr_model = LogisticRegression(\n",
    "    C=1.0,                    \n",
    "    solver='lbfgs',           \n",
    "    max_iter=1000,            \n",
    "    class_weight='balanced',  \n",
    "    random_state=42,\n",
    "    multi_class='ovr'        \n",
    ")\n",
    "\n",
    "lr_model.fit(X_train, y_train)\n",
    "\n",
    "print(\"Model training completed!\")\n",
    "print(f\"Number of classes: {len(lr_model.classes_)}\")\n",
    "print(f\"Classes: {list(lr_model.classes_)}\")"
   ]
  },
  {
   "cell_type": "code",
   "execution_count": 11,
   "id": "5c11a2ab",
   "metadata": {},
   "outputs": [
    {
     "name": "stdout",
     "output_type": "stream",
     "text": [
      "Training Accuracy: 0.8884\n",
      "Test Accuracy: 0.8772\n",
      "\n",
      "Detailed Classification Report:\n",
      "============================================================\n",
      "                         precision    recall  f1-score   support\n",
      "\n",
      "              Fragrance       0.89      0.93      0.91       285\n",
      "Grocery & Gourmet Foods       0.91      0.94      0.93       284\n",
      "              Hair Care       0.94      0.84      0.89       275\n",
      "                  Other       0.84      0.89      0.86       292\n",
      "          Personal Care       0.81      0.79      0.80       289\n",
      "\n",
      "               accuracy                           0.88      1425\n",
      "              macro avg       0.88      0.88      0.88      1425\n",
      "           weighted avg       0.88      0.88      0.88      1425\n",
      "\n",
      "\n",
      "Confusion Matrix:\n",
      "[[266   5   0   4  10]\n",
      " [  4 267   2   8   3]\n",
      " [  1   5 231  13  25]\n",
      " [  5  10   4 259  14]\n",
      " [ 24   5   8  25 227]]\n"
     ]
    }
   ],
   "source": [
    "y_pred = lr_model.predict(X_test)\n",
    "y_pred_proba = lr_model.predict_proba(X_test)\n",
    "\n",
    "test_accuracy = accuracy_score(y_test, y_pred)\n",
    "train_accuracy = lr_model.score(X_train, y_train)\n",
    "\n",
    "print(f\"Training Accuracy: {train_accuracy:.4f}\")\n",
    "print(f\"Test Accuracy: {test_accuracy:.4f}\")\n",
    "\n",
    "print(\"\\nDetailed Classification Report:\")\n",
    "print(\"=\" * 60)\n",
    "print(classification_report(y_test, y_pred, target_names=lr_model.classes_))\n",
    "\n",
    "print(\"\\nConfusion Matrix:\")\n",
    "cm = confusion_matrix(y_test, y_pred, labels=lr_model.classes_)\n",
    "print(cm)"
   ]
  },
  {
   "cell_type": "code",
   "execution_count": 12,
   "id": "20d1751f",
   "metadata": {},
   "outputs": [
    {
     "name": "stdout",
     "output_type": "stream",
     "text": [
      "Saving models...\n",
      "Saved logistic regression model to: models\\lr_embeddings.pkl\n",
      "\n",
      "Model files saved in: models/\n",
      "Files created:\n",
      "- models\\lr_embeddings.pkl\n"
     ]
    }
   ],
   "source": [
    "print(\"Saving models...\")\n",
    "    \n",
    "joblib.dump(lr_model, LR_MODEL_PATH)\n",
    "print(f\"Saved logistic regression model to: {LR_MODEL_PATH}\")\n",
    "\n",
    "print(f\"\\nModel files saved in: {MODEL_DIR}/\")\n",
    "print(f\"Files created:\")\n",
    "print(f\"- {LR_MODEL_PATH}\")"
   ]
  },
  {
   "cell_type": "code",
   "execution_count": 13,
   "id": "c02a727a",
   "metadata": {},
   "outputs": [
    {
     "name": "stdout",
     "output_type": "stream",
     "text": [
      "Prediction functions created successfully!\n"
     ]
    }
   ],
   "source": [
    "def predict_with_confidence(query: str) -> tuple:\n",
    "    processed_query = preprocess_text_for_embeddings(query)\n",
    "    query_embedding = embed_model.encode([processed_query])\n",
    "    prediction = lr_model.predict(query_embedding)[0]\n",
    "    probabilities = lr_model.predict_proba(query_embedding)[0]\n",
    "    confidence = max(probabilities)\n",
    "    top_indices = np.argsort(probabilities)[-3:][::-1]\n",
    "    top_predictions = [(lr_model.classes_[i], probabilities[i]) for i in top_indices]\n",
    "    return prediction, confidence, top_predictions\n",
    "\n",
    "print(\"Prediction functions created successfully!\")"
   ]
  },
  {
   "cell_type": "code",
   "execution_count": 14,
   "id": "cb349e32",
   "metadata": {},
   "outputs": [
    {
     "name": "stdout",
     "output_type": "stream",
     "text": [
      "Testing predictions with sentence transformer embeddings:\n",
      "================================================================================\n",
      "Query: 'moisturizing body wash'\n",
      "Predicted Category: Personal Care (confidence: 0.618)\n",
      "Top 3 predictions:\n",
      "  1. Personal Care: 0.618\n",
      "  2. Hair Care: 0.302\n",
      "  3. Fragrance: 0.042\n",
      "--------------------------------------------------------------------------------\n",
      "Query: 'wireless bluetooth headphones'\n",
      "Predicted Category: Other (confidence: 0.649)\n",
      "Top 3 predictions:\n",
      "  1. Other: 0.649\n",
      "  2. Hair Care: 0.323\n",
      "  3. Grocery & Gourmet Foods: 0.014\n",
      "--------------------------------------------------------------------------------\n",
      "Query: 'organic shampoo for dry hair'\n",
      "Predicted Category: Hair Care (confidence: 0.882)\n",
      "Top 3 predictions:\n",
      "  1. Hair Care: 0.882\n",
      "  2. Fragrance: 0.062\n",
      "  3. Other: 0.026\n",
      "--------------------------------------------------------------------------------\n",
      "Query: 'kitchen floor cleaning detergent'\n",
      "Predicted Category: Fragrance (confidence: 0.428)\n",
      "Top 3 predictions:\n",
      "  1. Fragrance: 0.428\n",
      "  2. Other: 0.248\n",
      "  3. Personal Care: 0.241\n",
      "--------------------------------------------------------------------------------\n",
      "Query: 'lavender scented candle'\n",
      "Predicted Category: Fragrance (confidence: 0.689)\n",
      "Top 3 predictions:\n",
      "  1. Fragrance: 0.689\n",
      "  2. Personal Care: 0.243\n",
      "  3. Other: 0.032\n",
      "--------------------------------------------------------------------------------\n",
      "Query: 'vitamin C face serum'\n",
      "Predicted Category: Personal Care (confidence: 0.634)\n",
      "Top 3 predictions:\n",
      "  1. Personal Care: 0.634\n",
      "  2. Other: 0.187\n",
      "  3. Hair Care: 0.154\n",
      "--------------------------------------------------------------------------------\n",
      "Query: 'dish washing liquid soap'\n",
      "Predicted Category: Other (confidence: 0.399)\n",
      "Top 3 predictions:\n",
      "  1. Other: 0.399\n",
      "  2. Personal Care: 0.372\n",
      "  3. Grocery & Gourmet Foods: 0.139\n",
      "--------------------------------------------------------------------------------\n",
      "Query: 'coconut oil hair mask'\n",
      "Predicted Category: Hair Care (confidence: 0.645)\n",
      "Top 3 predictions:\n",
      "  1. Hair Care: 0.645\n",
      "  2. Personal Care: 0.327\n",
      "  3. Fragrance: 0.014\n",
      "--------------------------------------------------------------------------------\n",
      "Query: 'smartphone screen cleaner'\n",
      "Predicted Category: Other (confidence: 0.760)\n",
      "Top 3 predictions:\n",
      "  1. Other: 0.760\n",
      "  2. Fragrance: 0.105\n",
      "  3. Personal Care: 0.091\n",
      "--------------------------------------------------------------------------------\n",
      "Query: 'herbal tea for relaxation'\n",
      "Predicted Category: Grocery & Gourmet Foods (confidence: 0.757)\n",
      "Top 3 predictions:\n",
      "  1. Grocery & Gourmet Foods: 0.757\n",
      "  2. Personal Care: 0.095\n",
      "  3. Other: 0.077\n",
      "--------------------------------------------------------------------------------\n"
     ]
    }
   ],
   "source": [
    "# Test with sample queries\n",
    "test_queries = [\n",
    "    \"moisturizing body wash\",\n",
    "    \"wireless bluetooth headphones\", \n",
    "    \"organic shampoo for dry hair\",\n",
    "    \"kitchen floor cleaning detergent\",\n",
    "    \"lavender scented candle\",\n",
    "    \"vitamin C face serum\",\n",
    "    \"dish washing liquid soap\",\n",
    "    \"coconut oil hair mask\",\n",
    "    \"smartphone screen cleaner\",\n",
    "    \"herbal tea for relaxation\"\n",
    "]\n",
    "\n",
    "print(\"Testing predictions with sentence transformer embeddings:\")\n",
    "print(\"=\" * 80)\n",
    "\n",
    "for query in test_queries:\n",
    "    try:\n",
    "        prediction, confidence, top_predictions = predict_with_confidence(query)\n",
    "        \n",
    "        print(f\"Query: '{query}'\")\n",
    "        print(f\"Predicted Category: {prediction} (confidence: {confidence:.3f})\")\n",
    "        print(\"Top 3 predictions:\")\n",
    "        for i, (cat, prob) in enumerate(top_predictions, 1):\n",
    "            print(f\"  {i}. {cat}: {prob:.3f}\")\n",
    "        print(\"-\" * 80)\n",
    "        \n",
    "    except Exception as e:\n",
    "        print(f\"Error predicting for '{query}': {e}\")\n",
    "        print(\"-\" * 80)"
   ]
  },
  {
   "cell_type": "code",
   "execution_count": 16,
   "id": "c595eeeb",
   "metadata": {},
   "outputs": [
    {
     "name": "stdout",
     "output_type": "stream",
     "text": [
      "MODEL PERFORMANCE SUMMARY\n",
      "============================================================\n",
      "Model Type: Sentence Transformer + Logistic Regression\n",
      "Embedding Model: all-MiniLM-L6-v2\n",
      "Embedding Dimensions: 384\n",
      "Training Accuracy: 0.8884\n",
      "Test Accuracy: 0.8772\n",
      "Number of Categories: 5\n",
      "Categories: ['Fragrance', 'Grocery & Gourmet Foods', 'Hair Care', 'Other', 'Personal Care']\n",
      "Total Training Samples: 5698\n",
      "Total Test Samples: 1425\n",
      "\n",
      "Model File: models\\lr_embeddings.pkl\n",
      "\n",
      "Training and evaluation completed successfully!\n"
     ]
    }
   ],
   "source": [
    "print(\"MODEL PERFORMANCE SUMMARY\")\n",
    "print(\"=\" * 60)\n",
    "\n",
    "print(f\"Model Type: Sentence Transformer + Logistic Regression\")\n",
    "print(f\"Embedding Model: all-MiniLM-L6-v2\")\n",
    "print(f\"Embedding Dimensions: {embed_model.get_sentence_embedding_dimension()}\")\n",
    "print(f\"Training Accuracy: {train_accuracy:.4f}\")\n",
    "print(f\"Test Accuracy: {test_accuracy:.4f}\")\n",
    "print(f\"Number of Categories: {len(lr_model.classes_)}\")\n",
    "print(f\"Categories: {list(lr_model.classes_)}\")\n",
    "print(f\"Total Training Samples: {len(X_train)}\")\n",
    "print(f\"Total Test Samples: {len(X_test)}\")\n",
    "\n",
    "print(f\"\\nModel File: {LR_MODEL_PATH}\")\n",
    "\n",
    "print(\"\\nTraining and evaluation completed successfully!\")"
   ]
  }
 ],
 "metadata": {
  "kernelspec": {
   "display_name": "myvenv",
   "language": "python",
   "name": "python3"
  },
  "language_info": {
   "codemirror_mode": {
    "name": "ipython",
    "version": 3
   },
   "file_extension": ".py",
   "mimetype": "text/x-python",
   "name": "python",
   "nbconvert_exporter": "python",
   "pygments_lexer": "ipython3",
   "version": "3.11.9"
  }
 },
 "nbformat": 4,
 "nbformat_minor": 5
}
